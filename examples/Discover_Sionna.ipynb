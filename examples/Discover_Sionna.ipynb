{
  "cells": [
    {
      "cell_type": "markdown",
      "metadata": {
        "id": "8UN5fLmzJ2De"
      },
      "source": [
        "## Discover Sionna\n",
        "\n",
        "This example notebook will guide you through the basic principles and illustrates the key features of [Sionna](https://nvlabs.github.io/sionna).\n",
        "With only a few commands, you can simulate the PHY-layer link-level performance for many 5G-compliant components, including easy visualization of the results.\n"
      ]
    },
    {
      "cell_type": "markdown",
      "metadata": {
        "id": "HmnwsL9UJ2Dg"
      },
      "source": [
        "### Load Required Packages\n",
        "\n",
        "The Sionna python package must be [installed](https://nvlabs.github.io/sionna/installation.html)."
      ]
    },
    {
      "cell_type": "code",
      "execution_count": 1,
      "metadata": {
        "id": "3FHBwrS0J2Dh"
      },
      "outputs": [],
      "source": [
        "import numpy as np\n",
        "import tensorflow as tf\n",
        "\n",
        "# Import Sionna\n",
        "try:\n",
        "    import sionna\n",
        "except ImportError as e:\n",
        "    # Install Sionna if package is not already installed\n",
        "    import os\n",
        "    os.system(\"pip install sionna\")\n",
        "    import sionna\n",
        "\n",
        "# IPython \"magic function\" for inline plots\n",
        "%matplotlib inline\n",
        "import matplotlib.pyplot as plt"
      ]
    },
    {
      "cell_type": "markdown",
      "metadata": {
        "id": "ujrkn700J2Dh"
      },
      "source": [
        "**Tip**: you can run bash commands in Jupyter via the `!` operator."
      ]
    },
    {
      "cell_type": "code",
      "execution_count": 11,
      "metadata": {
        "id": "827bd5nGJ2Di",
        "outputId": "fd9ba6ca-a0b4-4557-d640-c071fd830d40",
        "colab": {
          "base_uri": "https://localhost:8080/"
        }
      },
      "outputs": [
        {
          "output_type": "stream",
          "name": "stdout",
          "text": [
            "/bin/bash: nvidia-smi: command not found\n"
          ]
        }
      ],
      "source": [
        "!nvidia-smi"
      ]
    },
    {
      "cell_type": "markdown",
      "metadata": {
        "id": "1OmD96y2J2Di"
      },
      "source": [
        "In case multiple GPUs are available, we restrict this notebook to single-GPU usage. You can ignore this command if only one GPU is available.\n",
        "\n",
        "Further, we want to avoid that this notebook instantiates the whole GPU memory when initialized and set `memory_growth` as active.\n",
        "\n",
        "*Remark*: Sionna does not require a GPU. Everything can also run on your CPU - but you may need to wait a little longer."
      ]
    },
    {
      "cell_type": "code",
      "execution_count": 12,
      "metadata": {
        "id": "VrvqXhEVJ2Di",
        "outputId": "64848154-4a0c-440f-bbc1-9917a5575b41",
        "colab": {
          "base_uri": "https://localhost:8080/"
        }
      },
      "outputs": [
        {
          "output_type": "stream",
          "name": "stdout",
          "text": [
            "Number of GPUs available : 0\n"
          ]
        }
      ],
      "source": [
        "# Configure the notebook to use only a single GPU and allocate only as much memory as needed\n",
        "# For more details, see https://www.tensorflow.org/guide/gpu\n",
        "gpus = tf.config.list_physical_devices('GPU')\n",
        "print('Number of GPUs available :', len(gpus))\n",
        "if gpus:\n",
        "    gpu_num = 0 # Index of the GPU to be used\n",
        "    try:\n",
        "        #tf.config.set_visible_devices([], 'GPU')\n",
        "        tf.config.set_visible_devices(gpus[gpu_num], 'GPU')\n",
        "        print('Only GPU number', gpu_num, 'used.')\n",
        "        tf.config.experimental.set_memory_growth(gpus[gpu_num], True)\n",
        "    except RuntimeError as e:\n",
        "        print(e)"
      ]
    },
    {
      "cell_type": "markdown",
      "metadata": {
        "id": "ugOkAEy-J2Dj"
      },
      "source": [
        "### Sionna Data-flow and Design Paradigms\n",
        "\n",
        "Sionna inherently parallelizes simulations via *batching*, i.e., each element in the batch dimension is simulated independently.\n",
        "\n",
        "This means the first tensor dimension is always used for *inter-frame* parallelization similar to an outer *for-loop* in Matlab/NumPy simulations.\n",
        "\n",
        "To keep the dataflow efficient, Sionna follows a few simple design principles:\n",
        "\n",
        "* Signal-processing components are implemented as an individual [Keras layer](https://keras.io/api/layers/).\n",
        "* `tf.float32` is used as preferred datatype and `tf.complex64` for complex-valued datatypes, respectively.\n",
        "This allows simpler re-use of components (e.g., the same scrambling layer can be used for binary inputs and LLR-values).\n",
        "* Models can be developed in *eager mode* allowing simple (and fast) modification of system parameters.\n",
        "* Number crunching simulations can be executed in the faster *graph mode* or even *XLA* acceleration is available for most components.\n",
        "* Whenever possible, components are automatically differentiable via [auto-grad](https://www.tensorflow.org/guide/autodiff) to simplify the deep learning design-flow.\n",
        "* Code is structured into sub-packages for different tasks such as channel coding, mapping,... (see [API documentation](https://nvlabs.github.io/sionna/api/sionna.html) for details).\n",
        "\n",
        "The division into individual blocks simplifies deployment and all layers and functions comes with unittests to ensure their correct behavior.\n",
        "\n",
        "These paradigms simplify the re-useability and reliability of our components for a wide range of communications related applications."
      ]
    },
    {
      "cell_type": "markdown",
      "metadata": {
        "id": "Xu1q0GH1J2Dj"
      },
      "source": [
        "### Let's Get Started - The First Layers (*Eager Mode*)\n",
        "\n",
        "Every layer needs to be initialized once before it can be used.\n",
        "\n",
        "**Tip**: use the [API documentation](https://nvlabs.github.io/sionna/api/sionna.html) to find an overview of all existing components.\n",
        "\n",
        "We now want to transmit some symbols over an AWGN channel.\n",
        "First, we need to initialize the corresponding layer."
      ]
    },
    {
      "cell_type": "code",
      "execution_count": 13,
      "metadata": {
        "id": "STRuS2WZJ2Dj"
      },
      "outputs": [],
      "source": [
        "channel = sionna.channel.AWGN() # init AWGN channel layer"
      ]
    },
    {
      "cell_type": "markdown",
      "metadata": {
        "id": "820BPMC9J2Dk"
      },
      "source": [
        "In this first example, we want to add Gaussian noise to some given values of `x`.\n",
        "\n",
        "Remember - the first dimension is the *batch-dimension*.\n",
        "\n",
        "We simulate 2 message frames each containing 4 symbols.\n",
        "\n",
        "*Remark*: the [AWGN channel](https://nvlabs.github.io/sionna/api/channel.html#awgn) is defined to be complex-valued."
      ]
    },
    {
      "cell_type": "code",
      "execution_count": 14,
      "metadata": {
        "id": "IT_eDxd7J2Dk",
        "outputId": "54ca0dcc-3f5c-4cc5-c04d-63da46f52ddf",
        "colab": {
          "base_uri": "https://localhost:8080/"
        }
      },
      "outputs": [
        {
          "output_type": "stream",
          "name": "stdout",
          "text": [
            "Shape of x:  (2, 4)\n",
            "Values of x:  tf.Tensor(\n",
            "[[ 0. +0.j  1.5+0.j  1. +0.j  0. +0.j]\n",
            " [-1. +0.j  0. +0.j -2. +0.j  3. +0.j]], shape=(2, 4), dtype=complex64)\n"
          ]
        }
      ],
      "source": [
        "# define a (complex-valued) tensor to be transmitted\n",
        "x = tf.constant([[0., 1.5, 1., 0.],[-1., 0., -2, 3 ]], dtype=tf.complex64)\n",
        "\n",
        "# let's have look at the shape\n",
        "print(\"Shape of x: \", x.shape)\n",
        "print(\"Values of x: \", x)"
      ]
    },
    {
      "cell_type": "markdown",
      "metadata": {
        "id": "CVsQcDeZJ2Dk"
      },
      "source": [
        "We want to simulate the channel at an SNR of 5 dB.\n",
        "For this, we can simply *call* the previously defined layer `channel`.\n",
        "\n",
        "If you have never used  [Keras](https://keras.io) you can think of a layer as of a function: it has an input and returns the processed output.\n",
        "\n",
        "*Remark*: Each time this cell is executed a new noise realization is drawn."
      ]
    },
    {
      "cell_type": "code",
      "execution_count": 15,
      "metadata": {
        "id": "SjFgiFPCJ2Dk",
        "outputId": "51447752-0927-4ed4-80a9-2935c9c675e1",
        "colab": {
          "base_uri": "https://localhost:8080/"
        }
      },
      "outputs": [
        {
          "output_type": "stream",
          "name": "stdout",
          "text": [
            "Noisy symbols are:  tf.Tensor(\n",
            "[[-0.09735578+0.04063098j  1.6091774 +0.11160819j  0.4242279 +0.08881886j\n",
            "  -0.1930846 -0.244545j  ]\n",
            " [-1.1012354 -0.02648836j  0.12208287-0.25251856j -2.2252846 +0.2471752j\n",
            "   2.8859499 -0.19797805j]], shape=(2, 4), dtype=complex64)\n"
          ]
        }
      ],
      "source": [
        "ebno_db = 5\n",
        "\n",
        "# calculate noise variance from given EbNo\n",
        "no = sionna.utils.ebnodb2no(ebno_db = ebno_db,\n",
        "                            num_bits_per_symbol=2, # QPSK\n",
        "                            coderate=1)\n",
        "y = channel([x, no])\n",
        "\n",
        "print(\"Noisy symbols are: \", y)"
      ]
    },
    {
      "cell_type": "markdown",
      "metadata": {
        "id": "8pAHR6zyJ2Dk"
      },
      "source": [
        "### Batches and Multi-dimensional Tensors\n",
        "\n",
        "Sionna natively supports multi-dimensional tensors.\n",
        "\n",
        "Most layers operate at the last dimension and can have arbitrary input shapes (preserved at output).\n",
        "\n",
        "Let us assume we want to add a CRC-24 check to 64 codewords of length 500 (e.g., different CRC per sub-carrier).\n",
        "Further, we want to parallelize the simulation over a batch of 100 samples."
      ]
    },
    {
      "cell_type": "code",
      "execution_count": 16,
      "metadata": {
        "id": "elMN7vIVJ2Dk",
        "outputId": "6a176120-6eb3-4bfc-a95f-716b626a836b",
        "colab": {
          "base_uri": "https://localhost:8080/"
        }
      },
      "outputs": [
        {
          "output_type": "stream",
          "name": "stdout",
          "text": [
            "Shape of u:  (100, 64, 500)\n",
            "Shape of c:  (100, 64, 524)\n",
            "Processed bits:  3353600\n",
            "Shape of u_hat:  (100, 64, 500)\n",
            "Shape of crc_valid:  (100, 64, 1)\n",
            "Valid CRC check of first codeword:  True\n"
          ]
        }
      ],
      "source": [
        "batch_size = 100 # outer level of parallelism\n",
        "num_codewords = 64 # codewords per batch sample\n",
        "info_bit_length = 500 # info bits PER codeword\n",
        "\n",
        "source = sionna.utils.BinarySource() # yields random bits\n",
        "\n",
        "u = source([batch_size, num_codewords, info_bit_length]) # call the source layer\n",
        "print(\"Shape of u: \", u.shape)\n",
        "\n",
        "# initialize an CRC encoder with the standard compliant \"CRC24A\" polynomial\n",
        "encoder_crc = sionna.fec.crc.CRCEncoder(\"CRC24A\")\n",
        "decoder_crc = sionna.fec.crc.CRCDecoder(encoder_crc) # connect to encoder\n",
        "\n",
        "# add the CRC to the information bits u\n",
        "c = encoder_crc(u) # returns a list [c, crc_valid]\n",
        "print(\"Shape of c: \", c.shape)\n",
        "print(\"Processed bits: \", np.size(c.numpy()))\n",
        "\n",
        "# we can also verify the results\n",
        "# returns list of [info bits without CRC bits, indicator if CRC holds]\n",
        "u_hat, crc_valid = decoder_crc(c)\n",
        "print(\"Shape of u_hat: \", u_hat.shape)\n",
        "print(\"Shape of crc_valid: \", crc_valid.shape)\n",
        "\n",
        "print(\"Valid CRC check of first codeword: \", crc_valid.numpy()[0,0,0])"
      ]
    },
    {
      "cell_type": "markdown",
      "metadata": {
        "id": "mnkyrhkBJ2Dk"
      },
      "source": [
        "We want to do another simulation but for 5 independent users.\n",
        "\n",
        "Instead of defining 5 different tensors, we can simply add another dimension."
      ]
    },
    {
      "cell_type": "code",
      "execution_count": 17,
      "metadata": {
        "id": "73MtpIAXJ2Dk",
        "outputId": "3bebf608-a1ba-417c-c627-035c7ad35282",
        "colab": {
          "base_uri": "https://localhost:8080/"
        }
      },
      "outputs": [
        {
          "output_type": "stream",
          "name": "stdout",
          "text": [
            "New shape of u:  (100, 5, 64, 500)\n",
            "New shape of c:  (100, 5, 64, 524)\n",
            "Processed bits:  16768000\n"
          ]
        }
      ],
      "source": [
        "num_users = 5\n",
        "\n",
        "u = source([batch_size, num_users, num_codewords, info_bit_length])\n",
        "print(\"New shape of u: \", u.shape)\n",
        "\n",
        "# We can re-use the same encoder as before\n",
        "c = encoder_crc(u)\n",
        "print(\"New shape of c: \", c.shape)\n",
        "print(\"Processed bits: \", np.size(c.numpy()))"
      ]
    },
    {
      "cell_type": "markdown",
      "metadata": {
        "id": "LKLDzWohJ2Dk"
      },
      "source": [
        "Often a good visualization of results helps to get new research ideas.\n",
        "Thus, Sionna has built-in plotting functions.\n",
        "\n",
        "Let's have look at a 16-QAM constellation."
      ]
    },
    {
      "cell_type": "code",
      "execution_count": 18,
      "metadata": {
        "id": "5qyizYVzJ2Dk",
        "outputId": "d7670d8f-bf26-4c9e-9c98-d28f13b18fb7",
        "colab": {
          "base_uri": "https://localhost:8080/",
          "height": 641
        }
      },
      "outputs": [
        {
          "output_type": "display_data",
          "data": {
            "text/plain": [
              "<Figure size 700x700 with 1 Axes>"
            ],
            "image/png": "[encoded data removed]"
          },
          "metadata": {}
        }
      ],
      "source": [
        "constellation = sionna.mapping.Constellation(\"qam\", num_bits_per_symbol=4)\n",
        "constellation.show();"
      ]
    },
    {
      "cell_type": "markdown",
      "metadata": {
        "id": "0yEV3VNvJ2Dl"
      },
      "source": [
        "### First Link-level Simulation\n",
        "\n",
        "We can already build powerful code with a few simple commands.\n",
        "\n",
        "As mentioned earlier, Sionna aims at hiding system complexity into Keras layers.\n",
        "However, we still want to provide as much flexibility as possible.\n",
        "Thus, most layers have several choices of init parameters, but often the default choice is a good start.\n",
        "\n",
        "**Tip**: the [API documentation](https://nvlabs.github.io/sionna/api/sionna.html) provides many helpful references and implementation details."
      ]
    },
    {
      "cell_type": "code",
      "execution_count": 19,
      "metadata": {
        "id": "VvXM-6kPJ2Dl"
      },
      "outputs": [],
      "source": [
        "# system parameters\n",
        "n_ldpc = 500 # LDPC codeword length\n",
        "k_ldpc = 250 # number of info bits per LDPC codeword\n",
        "coderate = k_ldpc / n_ldpc\n",
        "num_bits_per_symbol = 4 # number of bits mapped to one symbol (cf. QAM)"
      ]
    },
    {
      "cell_type": "markdown",
      "metadata": {
        "id": "mTC7gFmxJ2Dl"
      },
      "source": [
        "Often, several different algorithms are implemented, e.g., the demapper supports  *\"true app\"* demapping, but also *\"max-log\"* demapping.\n",
        "\n",
        "The check-node (CN) update function of the LDPC BP decoder also supports multiple algorithms."
      ]
    },
    {
      "cell_type": "code",
      "execution_count": 20,
      "metadata": {
        "id": "AY1a5Ir4J2Dl"
      },
      "outputs": [],
      "source": [
        "demapping_method = \"app\" # try \"max-log\"\n",
        "ldpc_cn_type = \"boxplus\" # try also \"minsum\""
      ]
    },
    {
      "cell_type": "markdown",
      "metadata": {
        "id": "ZOmV-U_XJ2Dl"
      },
      "source": [
        "Let us initialize all required components for the given system parameters."
      ]
    },
    {
      "cell_type": "code",
      "execution_count": 21,
      "metadata": {
        "id": "npjQ25xtJ2Dl"
      },
      "outputs": [],
      "source": [
        "binary_source = sionna.utils.BinarySource()\n",
        "encoder = sionna.fec.ldpc.encoding.LDPC5GEncoder(k_ldpc, n_ldpc)\n",
        "constellation = sionna.mapping.Constellation(\"qam\", num_bits_per_symbol)\n",
        "mapper = sionna.mapping.Mapper(constellation=constellation)\n",
        "channel = sionna.channel.AWGN()\n",
        "demapper = sionna.mapping.Demapper(demapping_method,\n",
        "                                   constellation=constellation)\n",
        "decoder = sionna.fec.ldpc.decoding.LDPC5GDecoder(encoder,\n",
        "                                                 hard_out=True, cn_type=ldpc_cn_type,\n",
        "                                                 num_iter=20)"
      ]
    },
    {
      "cell_type": "markdown",
      "metadata": {
        "id": "pxe6gXdkJ2Dl"
      },
      "source": [
        "We can now run the code in *eager mode*. This allows us to modify the structure at any time - you can try a different `batch_size` or a different SNR `ebno_db`."
      ]
    },
    {
      "cell_type": "code",
      "execution_count": 22,
      "metadata": {
        "id": "UCs7XcemJ2Dl",
        "outputId": "14677e09-4c56-4eab-b95f-1a5cfe9093bd",
        "colab": {
          "base_uri": "https://localhost:8080/"
        }
      },
      "outputs": [
        {
          "output_type": "stream",
          "name": "stdout",
          "text": [
            "Shape before encoding:  (1000, 250)\n",
            "Shape after encoding:  (1000, 500)\n",
            "Shape after mapping:  (1000, 125)\n",
            "Shape after channel:  (1000, 125)\n",
            "Shape after demapping:  (1000, 500)\n",
            "Shape after decoding:  (1000, 250)\n",
            "BER uncoded = 0.119 at EbNo = 4.0 dB\n",
            "BER after decoding = 0.011 at EbNo = 4.0 dB\n",
            "In total 250000 bits were simulated\n"
          ]
        }
      ],
      "source": [
        "# simulation parameters\n",
        "batch_size = 1000\n",
        "ebno_db = 4\n",
        "\n",
        "# Generate a batch of random bit vectors\n",
        "b = binary_source([batch_size, k_ldpc])\n",
        "\n",
        "# Encode the bits using 5G LDPC code\n",
        "print(\"Shape before encoding: \", b.shape)\n",
        "c = encoder(b)\n",
        "print(\"Shape after encoding: \", c.shape)\n",
        "\n",
        "# Map bits to constellation symbols\n",
        "x = mapper(c)\n",
        "print(\"Shape after mapping: \", x.shape)\n",
        "\n",
        "# Transmit over an AWGN channel at SNR 'ebno_db'\n",
        "no = sionna.utils.ebnodb2no(ebno_db, num_bits_per_symbol, coderate)\n",
        "y = channel([x, no])\n",
        "print(\"Shape after channel: \", y.shape)\n",
        "\n",
        "# Demap to LLRs\n",
        "llr = demapper([y, no])\n",
        "print(\"Shape after demapping: \", llr.shape)\n",
        "\n",
        "# LDPC decoding using 20 BP iterations\n",
        "b_hat = decoder(llr)\n",
        "print(\"Shape after decoding: \", b_hat.shape)\n",
        "\n",
        "# calculate BERs\n",
        "c_hat = tf.cast(tf.less(0.0, llr), tf.float32) # hard-decided bits before dec.\n",
        "ber_uncoded = sionna.utils.metrics.compute_ber(c, c_hat)\n",
        "\n",
        "ber_coded = sionna.utils.metrics.compute_ber(b, b_hat)\n",
        "\n",
        "print(\"BER uncoded = {:.3f} at EbNo = {:.1f} dB\".format(ber_uncoded, ebno_db))\n",
        "print(\"BER after decoding = {:.3f} at EbNo = {:.1f} dB\".format(ber_coded, ebno_db))\n",
        "print(\"In total {} bits were simulated\".format(np.size(b.numpy())))"
      ]
    },
    {
      "cell_type": "markdown",
      "metadata": {
        "id": "nO9ej9jBJ2Dl"
      },
      "source": [
        "Just to summarize: we have simulated the transmission of 250,000 bits including higher-order modulation and channel coding!\n",
        "\n",
        "But we can go even faster with the *TF graph execution*!"
      ]
    },
    {
      "cell_type": "markdown",
      "metadata": {
        "id": "dKVAJGNEJ2Dl"
      },
      "source": [
        "### Setting up the End-to-end Model\n",
        "\n",
        "We now define a *Keras model* that is more convenient for training and Monte-Carlo simulations.\n",
        "\n",
        "We simulate the transmission over a time-varying multi-path channel (the *TDL-A* model from 3GPP TR38.901).\n",
        "For this, OFDM and a *conventional* bit-interleaved coded modulation (BICM) scheme with higher order modulation is used.\n",
        "The information bits are protected by a 5G-compliant LDPC code.\n",
        "\n",
        "*Remark*: Due to the large number of parameters, we define them as dictionary."
      ]
    },
    {
      "cell_type": "code",
      "execution_count": 23,
      "metadata": {
        "id": "wS-E8TdCJ2Dl"
      },
      "outputs": [],
      "source": [
        "class e2e_model(tf.keras.Model): # inherits from keras.model\n",
        "    \"\"\"Example model for end-to-end link-level simulations.\n",
        "\n",
        "    Parameters\n",
        "    ----------\n",
        "    params: dict\n",
        "        A dictionary defining the system parameters.\n",
        "\n",
        "    Input\n",
        "    -----\n",
        "    batch_size: int or tf.int\n",
        "        The batch_sizeused for the simulation.\n",
        "\n",
        "    ebno_db: float or tf.float\n",
        "        A float defining the simulation SNR.\n",
        "\n",
        "    Output\n",
        "    ------\n",
        "    (b, b_hat):\n",
        "        Tuple:\n",
        "\n",
        "    b: tf.float32\n",
        "        A tensor of shape `[batch_size, k]` containing the transmitted\n",
        "        information bits.\n",
        "\n",
        "    b_hat: tf.float32\n",
        "        A tensor of shape `[batch_size, k]` containing the receiver's\n",
        "        estimate of the transmitted information bits.\n",
        "    \"\"\"\n",
        "    def __init__(self,\n",
        "                params):\n",
        "        super().__init__()\n",
        "\n",
        "\n",
        "        # Define an OFDM Resource Grid Object\n",
        "        self.rg = sionna.ofdm.ResourceGrid(\n",
        "                            num_ofdm_symbols=params[\"num_ofdm_symbols\"],\n",
        "                            fft_size=params[\"fft_size\"],\n",
        "                            subcarrier_spacing=params[\"subcarrier_spacing\"],\n",
        "                            num_tx=1,\n",
        "                            num_streams_per_tx=1,\n",
        "                            cyclic_prefix_length=params[\"cyclic_prefix_length\"],\n",
        "                            pilot_pattern=\"kronecker\",\n",
        "                            pilot_ofdm_symbol_indices=params[\"pilot_ofdm_symbol_indices\"])\n",
        "\n",
        "        # Create a Stream Management object\n",
        "        self.sm = sionna.mimo.StreamManagement(rx_tx_association=np.array([[1]]),\n",
        "                                               num_streams_per_tx=1)\n",
        "\n",
        "        self.coderate = params[\"coderate\"]\n",
        "        self.num_bits_per_symbol = params[\"num_bits_per_symbol\"]\n",
        "        self.n = int(self.rg.num_data_symbols*self.num_bits_per_symbol)\n",
        "        self.k = int(self.n*coderate)\n",
        "\n",
        "        # Init layers\n",
        "        self.binary_source = sionna.utils.BinarySource()\n",
        "        self.encoder = sionna.fec.ldpc.encoding.LDPC5GEncoder(self.k, self.n)\n",
        "        self.interleaver = sionna.fec.interleaving.RowColumnInterleaver(\n",
        "                                        row_depth=self.num_bits_per_symbol)\n",
        "        self.deinterleaver = sionna.fec.interleaving.Deinterleaver(self.interleaver)\n",
        "        self.mapper = sionna.mapping.Mapper(\"qam\", self.num_bits_per_symbol)\n",
        "        self.rg_mapper = sionna.ofdm.ResourceGridMapper(self.rg)\n",
        "        self.tdl = sionna.channel.tr38901.TDL(model=\"A\",\n",
        "                           delay_spread=params[\"delay_spread\"],\n",
        "                           carrier_frequency=params[\"carrier_frequency\"],\n",
        "                           min_speed=params[\"min_speed\"],\n",
        "                           max_speed=params[\"max_speed\"])\n",
        "\n",
        "        self.channel = sionna.channel.OFDMChannel(self.tdl, self.rg, add_awgn=True, normalize_channel=True)\n",
        "        self.ls_est = sionna.ofdm.LSChannelEstimator(self.rg, interpolation_type=\"nn\")\n",
        "        self.lmmse_equ = sionna.ofdm.LMMSEEqualizer(self.rg, self.sm)\n",
        "        self.demapper = sionna.mapping.Demapper(params[\"demapping_method\"],\n",
        "                                                \"qam\", self.num_bits_per_symbol)\n",
        "        self.decoder = sionna.fec.ldpc.decoding.LDPC5GDecoder(self.encoder,\n",
        "                                                    hard_out=True,\n",
        "                                                    cn_type=params[\"cn_type\"],\n",
        "                                                    num_iter=params[\"bp_iter\"])\n",
        "\n",
        "        print(\"Number of pilots: {}\".format(self.rg.num_pilot_symbols))\n",
        "        print(\"Number of data symbols: {}\".format(self.rg.num_data_symbols))\n",
        "        print(\"Number of resource elements: {}\".format(\n",
        "                                    self.rg.num_resource_elements))\n",
        "\n",
        "        print(\"Pilot overhead: {:.2f}%\".format(\n",
        "                                    self.rg.num_pilot_symbols /\n",
        "                                    self.rg.num_resource_elements*100))\n",
        "\n",
        "        print(\"Cyclic prefix overhead: {:.2f}%\".format(\n",
        "                                    params[\"cyclic_prefix_length\"] /\n",
        "                                    (params[\"cyclic_prefix_length\"]\n",
        "                                    +params[\"fft_size\"])*100))\n",
        "\n",
        "        print(\"Each frame contains {} information bits\".format(self.k))\n",
        "\n",
        "    def call(self, batch_size, ebno_db):\n",
        "\n",
        "        # Generate a batch of random bit vectors\n",
        "        # We need two dummy dimension representing the number of\n",
        "        # transmitters and streams per transmitter, respectively.\n",
        "        b = self.binary_source([batch_size, 1, 1, self.k])\n",
        "\n",
        "        # Encode the bits using the all-zero dummy encoder\n",
        "        c = self.encoder(b)\n",
        "\n",
        "        # Interleave the bits before mapping (BICM)\n",
        "        c_int = self.interleaver(c)\n",
        "\n",
        "        # Map bits to constellation symbols\n",
        "        s = self.mapper(c_int)\n",
        "\n",
        "        # Map symbols onto OFDM ressource grid\n",
        "        x_rg = self.rg_mapper(s)\n",
        "\n",
        "        # Transmit over noisy multi-path channel\n",
        "        no = sionna.utils.ebnodb2no(ebno_db, self.num_bits_per_symbol, self.coderate, self.rg)\n",
        "        y = self.channel([x_rg, no])\n",
        "\n",
        "        # LS Channel estimation with nearest pilot interpolation\n",
        "        h_hat, err_var = self.ls_est ([y, no])\n",
        "\n",
        "        # LMMSE Equalization\n",
        "        x_hat, no_eff = self.lmmse_equ([y, h_hat, err_var, no])\n",
        "\n",
        "        # Demap to LLRs\n",
        "        llr = self.demapper([x_hat, no_eff])\n",
        "\n",
        "        # Deinterleave before decoding\n",
        "        llr_int = self.deinterleaver(llr)\n",
        "\n",
        "        # Decode\n",
        "        b_hat = self.decoder(llr_int)\n",
        "\n",
        "        # number of simulated bits\n",
        "        nb_bits = batch_size*self.k\n",
        "\n",
        "        # transmitted bits and the receiver's estimate after decoding\n",
        "        return b, b_hat"
      ]
    },
    {
      "cell_type": "markdown",
      "metadata": {
        "id": "f0qLEvs7J2Dl"
      },
      "source": [
        "Let us define the system parameters for our simulation as dictionary:"
      ]
    },
    {
      "cell_type": "code",
      "execution_count": 24,
      "metadata": {
        "id": "EE3tCxSOJ2Dm"
      },
      "outputs": [],
      "source": [
        "sys_params = {\n",
        "    # Channel\n",
        "    \"carrier_frequency\" : 3.5e9,\n",
        "    \"delay_spread\" : 100e-9,\n",
        "    \"min_speed\" : 3,\n",
        "    \"max_speed\" : 3,\n",
        "    \"tdl_model\" : \"A\",\n",
        "\n",
        "    # OFDM\n",
        "    \"fft_size\" : 256,\n",
        "    \"subcarrier_spacing\" : 30e3,\n",
        "    \"num_ofdm_symbols\" : 14,\n",
        "    \"cyclic_prefix_length\" : 16,\n",
        "    \"pilot_ofdm_symbol_indices\" : [2, 11],\n",
        "\n",
        "    # Code & Modulation\n",
        "    \"coderate\" : 0.5,\n",
        "    \"num_bits_per_symbol\" : 4,\n",
        "    \"demapping_method\" : \"app\",\n",
        "    \"cn_type\" : \"boxplus\",\n",
        "    \"bp_iter\" : 20\n",
        "}"
      ]
    },
    {
      "cell_type": "markdown",
      "metadata": {
        "id": "stl1I3yzJ2Dm"
      },
      "source": [
        "...and initialize the model:"
      ]
    },
    {
      "cell_type": "code",
      "execution_count": 25,
      "metadata": {
        "id": "ri2ij5WZJ2Dm",
        "outputId": "49f6f494-0d9f-465b-a26a-5cbfe7753af7",
        "colab": {
          "base_uri": "https://localhost:8080/"
        }
      },
      "outputs": [
        {
          "output_type": "stream",
          "name": "stdout",
          "text": [
            "Number of pilots: 512\n",
            "Number of data symbols: 3072\n",
            "Number of resource elements: 3584\n",
            "Pilot overhead: 14.29%\n",
            "Cyclic prefix overhead: 5.88%\n",
            "Each frame contains 6144 information bits\n"
          ]
        }
      ],
      "source": [
        "model = e2e_model(sys_params)"
      ]
    },
    {
      "cell_type": "markdown",
      "metadata": {
        "id": "Q_5Fc-mYJ2Dm"
      },
      "source": [
        "As before, we can simply *call* the model to simulate the BER for the given simulation parameters."
      ]
    },
    {
      "cell_type": "code",
      "execution_count": 26,
      "metadata": {
        "id": "s6AnocIsJ2Dm",
        "outputId": "91bf094a-54ce-40cd-f77b-2eab82af470c",
        "colab": {
          "base_uri": "https://localhost:8080/"
        }
      },
      "outputs": [
        {
          "output_type": "stream",
          "name": "stdout",
          "text": [
            "BER: 0.001849 at Eb/No of 10 dB and 1228800 simulated bits\n"
          ]
        }
      ],
      "source": [
        "#simulation parameters\n",
        "ebno_db = 10\n",
        "batch_size = 200\n",
        "\n",
        "# and call the model\n",
        "b, b_hat = model(batch_size, ebno_db)\n",
        "\n",
        "ber = sionna.utils.metrics.compute_ber(b, b_hat)\n",
        "nb_bits = np.size(b.numpy())\n",
        "\n",
        "print(\"BER: {:.4} at Eb/No of {} dB and {} simulated bits\".format(ber.numpy(), ebno_db, nb_bits))"
      ]
    },
    {
      "cell_type": "markdown",
      "metadata": {
        "id": "0a3kX74bJ2Dm"
      },
      "source": [
        "### Run some Throughput Tests (Graph Mode)\n",
        "\n",
        "Sionna is not just an easy-to-use library, but also incredibly fast.\n",
        "Let us measure the throughput of the model defined above.\n",
        "\n",
        "We compare *eager* and *graph* execution modes (see [Tensorflow Doc](https://www.tensorflow.org/guide/intro_to_graphs) for details), as well\n",
        "as *eager with XLA* (see https://www.tensorflow.org/xla#enable_xla_for_tensorflow_models).\n",
        "Note that we need to activate the [sionna.config.xla_compat](https://nvlabs.github.io/sionna/api/config.html#sionna.Config.xla_compat) feature for XLA to work.\n",
        "\n",
        "\n",
        "**Tip**: change the `batch_size` to see how the batch parallelism enhances the throughput.\n",
        "Depending on your machine, the `batch_size` may be too large."
      ]
    },
    {
      "cell_type": "code",
      "execution_count": 27,
      "metadata": {
        "id": "GtLfIOMpJ2Dm",
        "outputId": "18981f75-03dc-495e-a25a-0af012d4a4f4",
        "colab": {
          "base_uri": "https://localhost:8080/"
        }
      },
      "outputs": [
        {
          "output_type": "stream",
          "name": "stderr",
          "text": [
            "WARNING:tensorflow:From /usr/local/lib/python3.10/dist-packages/tensorflow/python/util/dispatch.py:1176: calling gather (from tensorflow.python.ops.array_ops) with validate_indices is deprecated and will be removed in a future version.\n",
            "Instructions for updating:\n",
            "The `validate_indices` argument has no effect. Indices are always validated on CPU and never validated on GPU.\n"
          ]
        },
        {
          "output_type": "stream",
          "name": "stdout",
          "text": [
            "Throughput in eager execution: 0.05 Mb/s\n",
            "Throughput in graph execution: 0.09 Mb/s\n",
            "Throughput in graph execution with XLA: 0.33 Mb/s\n"
          ]
        }
      ],
      "source": [
        "import time # this block requires the timeit library\n",
        "\n",
        "batch_size = 200\n",
        "ebno_db = 5 # evalaute SNR point\n",
        "repetitions = 4 # throughput is averaged over multiple runs\n",
        "\n",
        "def get_throughput(batch_size, ebno_db, model, repetitions=1):\n",
        "    \"\"\" Simulate throughput in bit/s per ebno_db point.\n",
        "\n",
        "    The results are average over `repetition` trials.\n",
        "\n",
        "    Input\n",
        "    -----\n",
        "    batch_size: int or tf.int32\n",
        "        Batch-size for evaluation.\n",
        "\n",
        "    ebno_db: float or tf.float32\n",
        "        A tensor containing the SNR points be evaluated\n",
        "\n",
        "    model:\n",
        "        Function or model that yields the transmitted bits `u` and the\n",
        "        receiver's estimate `u_hat` for a given ``batch_size`` and\n",
        "        ``ebno_db``.\n",
        "\n",
        "    repetitions: int\n",
        "        An integer defining how many trails of the throughput\n",
        "        simulation are averaged.\n",
        "\n",
        "    \"\"\"\n",
        "\n",
        "\n",
        "    # call model once to be sure it is compile properly\n",
        "    # otherwise time to build graph is measured as well.\n",
        "    u, u_hat = model(tf.constant(batch_size, tf.int32),\n",
        "                     tf.constant(ebno_db, tf.float32))\n",
        "\n",
        "    t_start = time.perf_counter()\n",
        "    # average over multiple runs\n",
        "    for _ in range(repetitions):\n",
        "        u, u_hat = model(tf.constant(batch_size, tf.int32),\n",
        "                            tf.constant(ebno_db, tf. float32))\n",
        "    t_stop = time.perf_counter()\n",
        "\n",
        "    # throughput in bit/s\n",
        "    throughput = np.size(u.numpy())*repetitions / (t_stop - t_start)\n",
        "\n",
        "    return throughput\n",
        "\n",
        "# eager mode - just call the model\n",
        "def run_eager(batch_size, ebno_db):\n",
        "    return model(batch_size, ebno_db)\n",
        "\n",
        "time_eager = get_throughput(batch_size, ebno_db, run_eager, repetitions=4)\n",
        "\n",
        "# the decorator \"@tf.function\" enables the graph mode\n",
        "@tf.function\n",
        "def run_graph(batch_size, ebno_db):\n",
        "    return model(batch_size, ebno_db)\n",
        "\n",
        "time_graph = get_throughput(batch_size, ebno_db, run_graph, repetitions=4)\n",
        "\n",
        "# the decorator \"@tf.function(jit_compile=True)\" enables the graph mode with XLA\n",
        "# we need to activate the sionna.config.xla_compat feature for this to work\n",
        "sionna.config.xla_compat=True\n",
        "@tf.function(jit_compile=True)\n",
        "def run_graph_xla(batch_size, ebno_db):\n",
        "    return model(batch_size, ebno_db)\n",
        "\n",
        "time_graph_xla = get_throughput(batch_size, ebno_db, run_graph_xla, repetitions=4)\n",
        "# we deactivate the sionna.config.xla_compat so that the cell can be run mutiple times\n",
        "sionna.config.xla_compat=False\n",
        "\n",
        "print(f\"Throughput in eager execution: {time_eager/1e6:.2f} Mb/s\")\n",
        "print(f\"Throughput in graph execution: {time_graph/1e6:.2f} Mb/s\")\n",
        "print(f\"Throughput in graph execution with XLA: {time_graph_xla/1e6:.2f} Mb/s\")"
      ]
    },
    {
      "cell_type": "markdown",
      "metadata": {
        "id": "CmtK7Iv_J2Dp"
      },
      "source": [
        "Obviously, *graph* execution (with XLA) yields much higher throughputs (at least if a fast GPU is available).\n",
        "Thus, for exhaustive training and Monte-Carlo simulations the *graph* mode (with XLA and GPU acceleration) is the preferred choice."
      ]
    },
    {
      "cell_type": "code",
      "source": [],
      "metadata": {
        "id": "LWxtvl0jNagD"
      },
      "execution_count": null,
      "outputs": []
    },
    {
      "cell_type": "markdown",
      "metadata": {
        "id": "O_38wF5aJ2Dp"
      },
      "source": [
        "### Bit-Error Rate (BER) Monte-Carlo Simulations\n",
        "\n",
        "Monte-Carlo simulations are omnipresent in todays communications research and development.\n",
        "Due its performant implementation, Sionna can be directly used to simulate BER at a performance that competes with compiled languages -- but still keeps the flexibility of a script language."
      ]
    },
    {
      "cell_type": "code",
      "execution_count": null,
      "metadata": {
        "id": "w4PDTh_iJ2Dp",
        "outputId": "06a2ab43-7ec0-40dc-aa8b-c7e3de7dcd4b",
        "colab": {
          "base_uri": "https://localhost:8080/"
        }
      },
      "outputs": [
        {
          "output_type": "stream",
          "name": "stdout",
          "text": [
            "EbNo [dB] |        BER |       BLER |  bit errors |    num bits | block errors |  num blocks | runtime [s] |    status\n",
            "---------------------------------------------------------------------------------------------------------------------------------------\n",
            "      0.0 | 3.4249e-01 | 1.0000e+00 |     1262550 |     3686400 |          600 |         600 |        14.9 |reached target block errors\n",
            "      1.0 | 3.1945e-01 | 1.0000e+00 |     1177625 |     3686400 |          600 |         600 |        22.9 |reached target block errors\n",
            "      2.0 | 2.9811e-01 | 1.0000e+00 |     1098961 |     3686400 |          600 |         600 |        11.8 |reached target block errors\n",
            "      3.0 | 2.7315e-01 | 1.0000e+00 |     1006929 |     3686400 |          600 |         600 |        11.8 |reached target block errors\n",
            "      4.0 | 2.4814e-01 | 1.0000e+00 |      914761 |     3686400 |          600 |         600 |        11.8 |reached target block errors\n",
            "      5.0 | 2.1836e-01 | 1.0000e+00 |      804962 |     3686400 |          600 |         600 |        11.8 |reached target block errors\n",
            "      6.0 | 1.8464e-01 | 1.0000e+00 |      680664 |     3686400 |          600 |         600 |        11.1 |reached target block errors\n",
            "      7.0 | 1.1551e-01 | 9.8500e-01 |      425826 |     3686400 |          591 |         600 |        11.2 |reached target block errors\n",
            "      8.0 | 4.2309e-02 | 4.7583e-01 |      311936 |     7372800 |          571 |        1200 |        23.5 |reached target block errors\n"
          ]
        }
      ],
      "source": [
        "ebno_dbs = np.arange(0, 15, 1.)\n",
        "batch_size = 200 # reduce in case you receive an out-of-memory (OOM) error\n",
        "\n",
        "max_mc_iter = 1000 # max number of Monte-Carlo iterations before going to next SNR point\n",
        "num_target_block_errors = 500 # continue with next SNR point after target number of block errors\n",
        "\n",
        "# we use the built-in ber simulator function from Sionna which uses and early stop after reaching num_target_errors\n",
        "sionna.config.xla_compat=True\n",
        "ber_mc,_ = sionna.utils.sim_ber(run_graph_xla, # you can also evaluate the model directly\n",
        "                                ebno_dbs,\n",
        "                                batch_size=batch_size,\n",
        "                                num_target_block_errors=num_target_block_errors,\n",
        "                                max_mc_iter=max_mc_iter,\n",
        "                                verbose=True) # print status and summary\n",
        "sionna.config.xla_compat=False"
      ]
    },
    {
      "cell_type": "markdown",
      "metadata": {
        "id": "WkCnLlGsJ2Dq"
      },
      "source": [
        "Let's look at the results."
      ]
    },
    {
      "cell_type": "code",
      "execution_count": null,
      "metadata": {
        "id": "BV0nQoYxJ2Dq",
        "outputId": "055c2c05-b966-4597-c66c-468e6802be6a"
      },
      "outputs": [
        {
          "data": {
            "image/png": "[encoded data removed]",
            "text/plain": [
              "<Figure size 1152x720 with 1 Axes>"
            ]
          },
          "metadata": {
            "needs_background": "light"
          },
          "output_type": "display_data"
        }
      ],
      "source": [
        "sionna.utils.plotting.plot_ber(ebno_dbs,\n",
        "                               ber_mc,\n",
        "                               legend=\"E2E Model\",\n",
        "                               ylabel=\"Coded BER\");"
      ]
    },
    {
      "cell_type": "markdown",
      "metadata": {
        "id": "wr_60_bqJ2Dq"
      },
      "source": [
        "### Conclusion\n",
        "\n",
        "We hope you are excited about Sionna - there is much more to be discovered:\n",
        "\n",
        "- TensorBoard debugging available\n",
        "- Scaling to multi-GPU simulation is simple\n",
        "- See the [available tutorials](https://nvlabs.github.io/sionna/tutorials.html) for more advanced examples.\n",
        "\n",
        "And if something is still missing - the project is [open-source](https://github.com/nvlabs/sionna/):  you can modify, add, and extend any component at any time."
      ]
    }
  ],
  "metadata": {
    "interpreter": {
      "hash": "31f2aee4e71d21fbe5cf8b01ff0e069b9275f58929596ceb00d14d90e3e16cd6"
    },
    "kernelspec": {
      "display_name": "Python 3",
      "language": "python",
      "name": "python3"
    },
    "language_info": {
      "codemirror_mode": {
        "name": "ipython",
        "version": 3
      },
      "file_extension": ".py",
      "mimetype": "text/x-python",
      "name": "python",
      "nbconvert_exporter": "python",
      "pygments_lexer": "ipython3",
      "version": "3.8.10"
    },
    "colab": {
      "provenance": []
    }
  },
  "nbformat": 4,
  "nbformat_minor": 0
}